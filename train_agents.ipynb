{
 "cells": [
  {
   "cell_type": "code",
   "execution_count": 4,
   "metadata": {},
   "outputs": [],
   "source": [
    "import os\n",
    "import numpy as np\n",
    "from tqdm import tqdm\n",
    "from src.utils.train_rl import train_A2C\n",
    "from IPython.display import clear_output\n",
    "import time\n",
    "from glob import glob\n",
    "import gc"
   ]
  },
  {
   "cell_type": "code",
   "execution_count": 5,
   "metadata": {},
   "outputs": [
    {
     "data": {
      "text/plain": [
       "0.7125"
      ]
     },
     "execution_count": 5,
     "metadata": {},
     "output_type": "execute_result"
    }
   ],
   "source": [
    "np.random.seed(911)\n",
    "\n",
    "goals = np.array([[i, j] for i in range(9) for j in range(9) if (i != 4 or j != 4)])\n",
    "goals_mask = np.random.binomial(1, 0.77, goals.shape[0]).astype(bool)\n",
    "\n",
    "goals_mask.sum() / goals_mask.shape[0]"
   ]
  },
  {
   "cell_type": "code",
   "execution_count": 9,
   "metadata": {},
   "outputs": [],
   "source": [
    "np.savetxt(\"src/test_tasks.txt\", goals[~goals_mask], fmt=\"%i\", delimiter=\",\")"
   ]
  },
  {
   "cell_type": "code",
   "execution_count": 3,
   "metadata": {},
   "outputs": [
    {
     "name": "stderr",
     "output_type": "stream",
     "text": [
      "100%|██████████| 57/57 [28:17<00:00, 29.79s/it]\n"
     ]
    }
   ],
   "source": [
    "for goal in tqdm(goals[goals_mask]):\n",
    "    print(goal)\n",
    "    goal_name = \"_\".join(map(str, goal))\n",
    "\n",
    "    if not (\n",
    "        f\"src/videos/{goal_name}.mp4\" in glob(\"src/videos/*\")\n",
    "        and f\"src/histories/{goal_name}.txt\" in glob(\"src/histories/*\")\n",
    "    ):\n",
    "        for filename in (\n",
    "            glob(f\"src/videos/{goal_name}\")\n",
    "            + glob(f\"src/logs/{goal_name}/*\")\n",
    "            + glob(f\"src/histories/{goal_name}\")\n",
    "        ):\n",
    "            os.remove(filename)\n",
    "        if os.path.exists(f\"src/logs/{goal_name}\"):\n",
    "            os.rmdir(f\"src/logs/{goal_name}\")\n",
    "\n",
    "        train_A2C(goal)\n",
    "\n",
    "        time.sleep(30)  # freeze time for the computer cooling\n",
    "\n",
    "        clear_output()\n",
    "        gc.collect()"
   ]
  },
  {
   "cell_type": "code",
   "execution_count": null,
   "metadata": {},
   "outputs": [],
   "source": []
  }
 ],
 "metadata": {
  "kernelspec": {
   "display_name": "Python 3",
   "language": "python",
   "name": "python3"
  },
  "language_info": {
   "codemirror_mode": {
    "name": "ipython",
    "version": 3
   },
   "file_extension": ".py",
   "mimetype": "text/x-python",
   "name": "python",
   "nbconvert_exporter": "python",
   "pygments_lexer": "ipython3",
   "version": "3.12.4"
  }
 },
 "nbformat": 4,
 "nbformat_minor": 2
}
